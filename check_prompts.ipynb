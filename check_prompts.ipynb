{
 "cells": [
  {
   "cell_type": "code",
   "execution_count": 1,
   "id": "b6800ce6",
   "metadata": {},
   "outputs": [
    {
     "name": "stderr",
     "output_type": "stream",
     "text": [
      "/home/bumjin/anaconda3/lib/python3.11/site-packages/transformers/utils/hub.py:111: FutureWarning: Using `TRANSFORMERS_CACHE` is deprecated and will be removed in v5 of Transformers. Use `HF_HOME` instead.\n",
      "  warnings.warn(\n"
     ]
    },
    {
     "data": {
      "text/plain": [
       "Dataset({\n",
       "    features: ['text', 'label', 'answer', 'sample_id'],\n",
       "    num_rows: 100\n",
       "})"
      ]
     },
     "execution_count": 1,
     "metadata": {},
     "output_type": "execute_result"
    }
   ],
   "source": [
    "from prompts import formatting_prompts\n",
    "from data import get_dataset\n",
    "dataset_name = \"imdb-small\"\n",
    "split = \"train\"\n",
    "\n",
    "batch_size = 16\n",
    "from transformers import AutoTokenizer\n",
    "tokenizer = AutoTokenizer.from_pretrained(\"meta-llama/Meta-Llama-3.1-8B-Instruct\")\n",
    "dataset = get_dataset(dataset_name, split).select(range(100))\n",
    "dataset"
   ]
  },
  {
   "cell_type": "code",
   "execution_count": 2,
   "id": "15ffe9ef",
   "metadata": {},
   "outputs": [],
   "source": [
    "import torch \n",
    "def print_settings(fixedness, semantics, count):\n",
    "    print(\"--------------------------------\")\n",
    "    print(f\"FIXEDNESS: {fixedness}, SEMANTICS: {semantics}, COUNT: {count}\")\n",
    "    print(\"--------------------------------\")\n",
    "    print(f\"Decoded Probing Tokens:\")\n",
    "    dataloader = formatting_prompts(dataset, fixedness, semantics, count, tokenizer, batch_size)\n",
    "    v = iter(dataloader)\n",
    "    probe_positions_lengths = []\n",
    "    for i in range(len(dataloader)):\n",
    "        sample = next(v)\n",
    "        input_ids = sample['input_ids']\n",
    "        probe_positions = sample['probe_positions']\n",
    "        sample_ids = sample['sample_ids']\n",
    "        tokenizer.decode(input_ids[0]) \n",
    "        p = tokenizer.decode(input_ids[0][probe_positions[0]])\n",
    "        if i < 5:\n",
    "            print(f\"Sample {i} >>> \", p.replace(\"\\n\", \" \\\\n\"))\n",
    "        probe_positions_lengths.append(torch.tensor([len(v) for v in probe_positions]))\n",
    "    probe_positions_lengths = torch.concat(probe_positions_lengths).float()\n",
    "    print(\"--------------------------------\")\n",
    "    print(\"Variance of Probing Token Lengths (Expected to be 0 to ensure the same length of probing tokens)\")\n",
    "    print(f\" >>> Variance of {len(probe_positions_lengths)} Samples: \", torch.var(probe_positions_lengths).item())\n",
    "    print(f\" >>> Mean of {len(probe_positions_lengths)} Samples: \", torch.mean(probe_positions_lengths).item())"
   ]
  },
  {
   "cell_type": "code",
   "execution_count": 3,
   "id": "1168aa10",
   "metadata": {},
   "outputs": [],
   "source": [
    "fixedness_list = ['fixed', 'variable']\n",
    "semantics_list = ['syntactical', 'special', 'random']\n",
    "count_list = ['single', 'multi']"
   ]
  },
  {
   "cell_type": "code",
   "execution_count": 4,
   "id": "0c55aee2",
   "metadata": {},
   "outputs": [
    {
     "name": "stdout",
     "output_type": "stream",
     "text": [
      "--------------------------------\n",
      "FIXEDNESS: fixed, SEMANTICS: syntactical, COUNT: single\n",
      "--------------------------------\n",
      "Decoded Probing Tokens:\n",
      "Sample 0 >>>  ...\n",
      "Sample 1 >>>  .\n",
      "Sample 2 >>>  !.\n",
      "Sample 3 >>>  .\n",
      "Sample 4 >>>  ?.\n",
      "--------------------------------\n",
      "Variance of Probing Token Lengths (Expected to be 0 to ensure the same length of probing tokens)\n",
      " >>> Variance of 100 Samples:  0.0\n",
      " >>> Mean of 100 Samples:  1.0\n",
      "--------------------------------\n",
      "FIXEDNESS: fixed, SEMANTICS: syntactical, COUNT: multi\n",
      "--------------------------------\n",
      "Decoded Probing Tokens:\n",
      "Sample 0 >>>   Think step by step.\n",
      "Sample 1 >>>   Think step by step.\n",
      "Sample 2 >>>   Think step by step.\n",
      "Sample 3 >>>   Think step by step.\n",
      "Sample 4 >>>   Think step by step.\n",
      "--------------------------------\n",
      "Variance of Probing Token Lengths (Expected to be 0 to ensure the same length of probing tokens)\n",
      " >>> Variance of 100 Samples:  0.0\n",
      " >>> Mean of 100 Samples:  5.0\n"
     ]
    }
   ],
   "source": [
    "print_settings('fixed', 'syntactical', 'single')\n",
    "print_settings('fixed', 'syntactical', 'multi')"
   ]
  },
  {
   "cell_type": "code",
   "execution_count": 5,
   "id": "47297ec7",
   "metadata": {},
   "outputs": [
    {
     "name": "stdout",
     "output_type": "stream",
     "text": [
      "--------------------------------\n",
      "FIXEDNESS: fixed, SEMANTICS: special, COUNT: single\n",
      "--------------------------------\n",
      "Decoded Probing Tokens:\n"
     ]
    },
    {
     "name": "stdout",
     "output_type": "stream",
     "text": [
      "Sample 0 >>>  <|eot_id|>\n",
      "Sample 1 >>>  <|eot_id|>\n",
      "Sample 2 >>>  <|eot_id|>\n",
      "Sample 3 >>>  <|eot_id|>\n",
      "Sample 4 >>>  <|eot_id|>\n",
      "--------------------------------\n",
      "Variance of Probing Token Lengths (Expected to be 0 to ensure the same length of probing tokens)\n",
      " >>> Variance of 100 Samples:  0.0\n",
      " >>> Mean of 100 Samples:  1.0\n",
      "--------------------------------\n",
      "FIXEDNESS: fixed, SEMANTICS: special, COUNT: multi\n",
      "--------------------------------\n",
      "Decoded Probing Tokens:\n",
      "Sample 0 >>>  <|eot_id|><|start_header_id|>assistant<|end_header_id|> \\n \\n\n",
      "Sample 1 >>>  <|eot_id|><|start_header_id|>assistant<|end_header_id|> \\n \\n\n",
      "Sample 2 >>>  <|eot_id|><|start_header_id|>assistant<|end_header_id|> \\n \\n\n",
      "Sample 3 >>>  <|eot_id|><|start_header_id|>assistant<|end_header_id|> \\n \\n\n",
      "Sample 4 >>>  <|eot_id|><|start_header_id|>assistant<|end_header_id|> \\n \\n\n",
      "--------------------------------\n",
      "Variance of Probing Token Lengths (Expected to be 0 to ensure the same length of probing tokens)\n",
      " >>> Variance of 100 Samples:  0.0\n",
      " >>> Mean of 100 Samples:  5.0\n"
     ]
    }
   ],
   "source": [
    "print_settings('fixed', 'special', 'single')\n",
    "print_settings('fixed', 'special', 'multi')"
   ]
  },
  {
   "cell_type": "code",
   "execution_count": 6,
   "id": "84ab3799",
   "metadata": {},
   "outputs": [
    {
     "name": "stdout",
     "output_type": "stream",
     "text": [
      "--------------------------------\n",
      "FIXEDNESS: fixed, SEMANTICS: random, COUNT: single\n",
      "--------------------------------\n",
      "Decoded Probing Tokens:\n",
      "Sample 0 >>>   random\n",
      "Sample 1 >>>   random\n",
      "Sample 2 >>>   random\n",
      "Sample 3 >>>   random\n",
      "Sample 4 >>>   random\n",
      "--------------------------------\n",
      "Variance of Probing Token Lengths (Expected to be 0 to ensure the same length of probing tokens)\n",
      " >>> Variance of 100 Samples:  0.0\n",
      " >>> Mean of 100 Samples:  1.0\n",
      "--------------------------------\n",
      "FIXEDNESS: fixed, SEMANTICS: random, COUNT: multi\n",
      "--------------------------------\n",
      "Decoded Probing Tokens:\n"
     ]
    },
    {
     "name": "stdout",
     "output_type": "stream",
     "text": [
      "Sample 0 >>>   Random text is inserted.\n",
      "Sample 1 >>>   Random text is inserted.\n",
      "Sample 2 >>>   Random text is inserted.\n",
      "Sample 3 >>>   Random text is inserted.\n",
      "Sample 4 >>>   Random text is inserted.\n",
      "--------------------------------\n",
      "Variance of Probing Token Lengths (Expected to be 0 to ensure the same length of probing tokens)\n",
      " >>> Variance of 100 Samples:  0.0\n",
      " >>> Mean of 100 Samples:  5.0\n"
     ]
    }
   ],
   "source": [
    "print_settings('fixed', 'random', 'single')\n",
    "print_settings('fixed', 'random', 'multi')"
   ]
  },
  {
   "cell_type": "code",
   "execution_count": 7,
   "id": "2661ebbf",
   "metadata": {},
   "outputs": [
    {
     "name": "stdout",
     "output_type": "stream",
     "text": [
      "--------------------------------\n",
      "FIXEDNESS: variable, SEMANTICS: syntactical, COUNT: single\n",
      "--------------------------------\n",
      "Decoded Probing Tokens:\n",
      "Sample 0 >>>  !\n",
      "Sample 1 >>>  !\n",
      "Sample 2 >>>  !\n",
      "Sample 3 >>>  !\n",
      "Sample 4 >>>  ,\n",
      "--------------------------------\n",
      "Variance of Probing Token Lengths (Expected to be 0 to ensure the same length of probing tokens)\n",
      " >>> Variance of 100 Samples:  0.0\n",
      " >>> Mean of 100 Samples:  1.0\n",
      "--------------------------------\n",
      "FIXEDNESS: variable, SEMANTICS: syntactical, COUNT: multi\n",
      "--------------------------------\n",
      "Decoded Probing Tokens:\n"
     ]
    },
    {
     "name": "stdout",
     "output_type": "stream",
     "text": [
      "Sample 0 >>>   Think through it slowly.\n",
      "Sample 1 >>>   Think through it slowly.\n",
      "Sample 2 >>>   Think through it slowly.\n",
      "Sample 3 >>>   Think through it slowly.\n",
      "Sample 4 >>>   as a careful analyst.\n",
      "--------------------------------\n",
      "Variance of Probing Token Lengths (Expected to be 0 to ensure the same length of probing tokens)\n",
      " >>> Variance of 100 Samples:  0.0\n",
      " >>> Mean of 100 Samples:  5.0\n"
     ]
    }
   ],
   "source": [
    "print_settings('variable', 'syntactical', 'single')\n",
    "print_settings('variable', 'syntactical', 'multi')"
   ]
  },
  {
   "cell_type": "code",
   "execution_count": null,
   "id": "033c4e3a",
   "metadata": {},
   "outputs": [
    {
     "name": "stdout",
     "output_type": "stream",
     "text": [
      "!!! Variable Special is not supported and equivalent to Fixed Special as Candidates for Special Tokens are Non-trivial\n",
      "--------------------------------\n",
      "FIXEDNESS: variable, SEMANTICS: special, COUNT: single\n",
      "--------------------------------\n",
      "Decoded Probing Tokens:\n",
      "Warning: Variable Special is not supported and equivalent to Fixed Special as Candidates for Special Tokens are Non-trivial\n",
      "Sample 0 >>>  <|eot_id|>\n",
      "Sample 1 >>>  <|eot_id|>\n",
      "Sample 2 >>>  <|eot_id|>\n",
      "Sample 3 >>>  <|eot_id|>\n",
      "Sample 4 >>>  <|eot_id|>\n",
      "--------------------------------\n",
      "Variance of Probing Token Lengths (Expected to be 0 to ensure the same length of probing tokens)\n",
      " >>> Variance of 100 Samples:  0.0\n",
      " >>> Mean of 100 Samples:  1.0\n",
      "--------------------------------\n",
      "FIXEDNESS: variable, SEMANTICS: special, COUNT: multi\n",
      "--------------------------------\n",
      "Decoded Probing Tokens:\n",
      "Warning: Variable Special is not supported and equivalent to Fixed Special as Candidates for Special Tokens are Non-trivial\n"
     ]
    },
    {
     "name": "stdout",
     "output_type": "stream",
     "text": [
      "Sample 0 >>>  <|eot_id|><|start_header_id|>assistant<|end_header_id|> \\n \\n\n",
      "Sample 1 >>>  <|eot_id|><|start_header_id|>assistant<|end_header_id|> \\n \\n\n",
      "Sample 2 >>>  <|eot_id|><|start_header_id|>assistant<|end_header_id|> \\n \\n\n",
      "Sample 3 >>>  <|eot_id|><|start_header_id|>assistant<|end_header_id|> \\n \\n\n",
      "Sample 4 >>>  <|eot_id|><|start_header_id|>assistant<|end_header_id|> \\n \\n\n",
      "--------------------------------\n",
      "Variance of Probing Token Lengths (Expected to be 0 to ensure the same length of probing tokens)\n",
      " >>> Variance of 100 Samples:  0.0\n",
      " >>> Mean of 100 Samples:  5.0\n"
     ]
    }
   ],
   "source": [
    "# Warning:\n",
    "# Warning:\n",
    "# Warning:\n",
    "print(\"!!! Variable Special is not supported and equivalent to Fixed Special as Candidates for Special Tokens are Non-trivial\")\n",
    "print_settings('variable', 'special', 'single')\n",
    "print_settings('variable', 'special', 'multi')"
   ]
  },
  {
   "cell_type": "code",
   "execution_count": 9,
   "id": "00bc5009",
   "metadata": {},
   "outputs": [
    {
     "name": "stdout",
     "output_type": "stream",
     "text": [
      "--------------------------------\n",
      "FIXEDNESS: variable, SEMANTICS: random, COUNT: single\n",
      "--------------------------------\n",
      "Decoded Probing Tokens:\n",
      "Sample 0 >>>   beta\n",
      "Sample 1 >>>   beta\n",
      "Sample 2 >>>   probe\n",
      "Sample 3 >>>   beta\n",
      "Sample 4 >>>   probe\n",
      "--------------------------------\n",
      "Variance of Probing Token Lengths (Expected to be 0 to ensure the same length of probing tokens)\n",
      " >>> Variance of 100 Samples:  0.0\n",
      " >>> Mean of 100 Samples:  1.0\n",
      "--------------------------------\n",
      "FIXEDNESS: variable, SEMANTICS: random, COUNT: multi\n",
      "--------------------------------\n",
      "Decoded Probing Tokens:\n"
     ]
    },
    {
     "name": "stdout",
     "output_type": "stream",
     "text": [
      "Sample 0 >>>   Arbitrary tokens appended here.\n",
      "Sample 1 >>>   Arbitrary tokens appended here.\n",
      "Sample 2 >>>   Arbitrary tokens appended here.\n",
      "Sample 3 >>>   Arbitrary tokens appended here.\n",
      "Sample 4 >>>   Noise sequence without semantics.\n",
      "--------------------------------\n",
      "Variance of Probing Token Lengths (Expected to be 0 to ensure the same length of probing tokens)\n",
      " >>> Variance of 100 Samples:  0.0\n",
      " >>> Mean of 100 Samples:  5.0\n"
     ]
    }
   ],
   "source": [
    "print_settings('variable', 'random', 'single')\n",
    "print_settings('variable', 'random', 'multi')"
   ]
  },
  {
   "cell_type": "code",
   "execution_count": null,
   "id": "ad820c0f",
   "metadata": {},
   "outputs": [],
   "source": []
  }
 ],
 "metadata": {
  "kernelspec": {
   "display_name": "base",
   "language": "python",
   "name": "python3"
  },
  "language_info": {
   "codemirror_mode": {
    "name": "ipython",
    "version": 3
   },
   "file_extension": ".py",
   "mimetype": "text/x-python",
   "name": "python",
   "nbconvert_exporter": "python",
   "pygments_lexer": "ipython3",
   "version": "3.11.7"
  }
 },
 "nbformat": 4,
 "nbformat_minor": 5
}
